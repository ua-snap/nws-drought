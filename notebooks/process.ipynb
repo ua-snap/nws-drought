{
 "cells": [
  {
   "cell_type": "code",
   "execution_count": 1,
   "id": "1f51df8f",
   "metadata": {},
   "outputs": [],
   "source": [
    "import numpy as np\n",
    "import pandas as pd\n",
    "import xarray as xr\n",
    "from config import DOWNLOAD_DIR, INPUT_DIR\n",
    "from pathlib import Path"
   ]
  },
  {
   "cell_type": "markdown",
   "id": "6fd66cfb",
   "metadata": {},
   "source": [
    "## Perform indicies calculations\n",
    "\n",
    " * SPI - standardized precipitation index\n",
    " * SPEI (can ERA 5 do this?) – standardized potential evaporation index\n",
    " * Total Precip\n",
    " * % of Normal Precipitation\n",
    " * SWE - snow water equivalent\n",
    " * SWE % of Normal \n",
    " * Soil Moisture Deficit\n"
   ]
  },
  {
   "cell_type": "code",
   "execution_count": null,
   "id": "0b0cf374",
   "metadata": {},
   "outputs": [],
   "source": []
  }
 ],
 "metadata": {
  "kernelspec": {
   "display_name": "Python 3 (ipykernel)",
   "language": "python",
   "name": "python3"
  },
  "language_info": {
   "codemirror_mode": {
    "name": "ipython",
    "version": 3
   },
   "file_extension": ".py",
   "mimetype": "text/x-python",
   "name": "python",
   "nbconvert_exporter": "python",
   "pygments_lexer": "ipython3",
   "version": "3.8.13"
  }
 },
 "nbformat": 4,
 "nbformat_minor": 5
}
