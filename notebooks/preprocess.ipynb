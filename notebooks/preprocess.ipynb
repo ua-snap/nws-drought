{
 "cells": [
  {
   "cell_type": "code",
   "execution_count": 1,
   "id": "102b7896",
   "metadata": {},
   "outputs": [
    {
     "ename": "ModuleNotFoundError",
     "evalue": "No module named 'pandas'",
     "output_type": "error",
     "traceback": [
      "\u001b[0;31m---------------------------------------------------------------------------\u001b[0m",
      "\u001b[0;31mModuleNotFoundError\u001b[0m                       Traceback (most recent call last)",
      "Cell \u001b[0;32mIn [1], line 2\u001b[0m\n\u001b[1;32m      1\u001b[0m \u001b[38;5;28;01mimport\u001b[39;00m \u001b[38;5;21;01mnumpy\u001b[39;00m \u001b[38;5;28;01mas\u001b[39;00m \u001b[38;5;21;01mnp\u001b[39;00m\n\u001b[0;32m----> 2\u001b[0m \u001b[38;5;28;01mimport\u001b[39;00m \u001b[38;5;21;01mpandas\u001b[39;00m \u001b[38;5;28;01mas\u001b[39;00m \u001b[38;5;21;01mpd\u001b[39;00m\n\u001b[1;32m      3\u001b[0m \u001b[38;5;28;01mimport\u001b[39;00m \u001b[38;5;21;01mxarray\u001b[39;00m \u001b[38;5;28;01mas\u001b[39;00m \u001b[38;5;21;01mxr\u001b[39;00m\n\u001b[1;32m      4\u001b[0m \u001b[38;5;28;01mfrom\u001b[39;00m \u001b[38;5;21;01mconfig\u001b[39;00m \u001b[38;5;28;01mimport\u001b[39;00m DOWNLOAD_DIR\n",
      "\u001b[0;31mModuleNotFoundError\u001b[0m: No module named 'pandas'"
     ]
    }
   ],
   "source": [
    "import numpy as np\n",
    "import pandas as pd\n",
    "import xarray as xr\n",
    "from config import DOWNLOAD_DIR\n",
    "from pathlib import Path\n"
   ]
  },
  {
   "cell_type": "markdown",
   "id": "d7decdea",
   "metadata": {},
   "source": [
    "### Merge the datasets\n",
    "\n",
    "We need to merge the three (sometimes two) datasets into a single dataframe.\n",
    "\n",
    "total_precipitation_current_month.nc total_precipitation_previous_year.nc\n",
    "total_precipitation_current_year.nc\n"
   ]
  },
  {
   "cell_type": "code",
   "execution_count": null,
   "id": "d348b531",
   "metadata": {},
   "outputs": [],
   "source": [
    "prior_year = xr.open_dataset(Path(DOWNLOAD_DIR) / \"inputs\" / \"total_precipitation_previous_year.nc\")\n",
    "current_year = xr.open_dataset(Path(DOWNLOAD_DIR) / \"inputs\" / \"total_precipitation_current_year.nc\")\n",
    "current_month = xr.open_dataset(Path(DOWNLOAD_DIR) / \"inputs\" / \"total_precipitation_current_month.nc\")"
   ]
  },
  {
   "cell_type": "code",
   "execution_count": 3,
   "id": "d686d746",
   "metadata": {},
   "outputs": [],
   "source": [
    "merged = xr.merge([prior_year, current_year, current_month])"
   ]
  },
  {
   "cell_type": "code",
   "execution_count": 1,
   "id": "05dc02a2",
   "metadata": {},
   "outputs": [
    {
     "ename": "NameError",
     "evalue": "name 'merged' is not defined",
     "output_type": "error",
     "traceback": [
      "\u001b[0;31m---------------------------------------------------------------------------\u001b[0m",
      "\u001b[0;31mNameError\u001b[0m                                 Traceback (most recent call last)",
      "\u001b[0;32m/var/folders/zv/hzbdqtb17vx2779dtrd6_n700000gn/T/ipykernel_87035/2689886827.py\u001b[0m in \u001b[0;36m<module>\u001b[0;34m\u001b[0m\n\u001b[0;32m----> 1\u001b[0;31m \u001b[0mmerged\u001b[0m\u001b[0;34m.\u001b[0m\u001b[0mtime\u001b[0m\u001b[0;34m\u001b[0m\u001b[0;34m\u001b[0m\u001b[0m\n\u001b[0m\u001b[1;32m      2\u001b[0m \u001b[0;34m\u001b[0m\u001b[0m\n",
      "\u001b[0;31mNameError\u001b[0m: name 'merged' is not defined"
     ]
    }
   ],
   "source": [
    "merged.time\n",
    "\n"
   ]
  },
  {
   "cell_type": "code",
   "execution_count": null,
   "id": "d76df4ca",
   "metadata": {},
   "outputs": [],
   "source": []
  }
 ],
 "metadata": {
  "kernelspec": {
   "display_name": "Python 3 (ipykernel)",
   "language": "python",
   "name": "python3"
  },
  "language_info": {
   "codemirror_mode": {
    "name": "ipython",
    "version": 3
   },
   "file_extension": ".py",
   "mimetype": "text/x-python",
   "name": "python",
   "nbconvert_exporter": "python",
   "pygments_lexer": "ipython3",
   "version": "3.8.13"
  }
 },
 "nbformat": 4,
 "nbformat_minor": 5
}
