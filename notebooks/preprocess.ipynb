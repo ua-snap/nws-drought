{
 "cells": [
  {
   "cell_type": "code",
   "execution_count": 84,
   "id": "102b7896",
   "metadata": {},
   "outputs": [],
   "source": [
    "import numpy as np\n",
    "import pandas as pd\n",
    "import xarray as xr\n",
    "from config import DOWNLOAD_DIR, INPUT_DIR"
   ]
  },
  {
   "cell_type": "markdown",
   "id": "d7decdea",
   "metadata": {},
   "source": [
    "### Merge datasets, create daily sum of total precipitation\n",
    "\n",
    "We need to merge the three (sometimes two?) datasets into a single dataframe.  Then, we need to produce total sums for each day.  Source data will contain a [mix of ERA5 and ERA5T data](https://confluence.ecmwf.int/display/CUSF/ERA5+CDS+requests+which+return+a+mixture+of+ERA5+and+ERA5T+data), so we need to do this to get a consistent set of data:\n",
    " \n",
    "### Our algorithm for merging/fusing data needs to go like this,\n",
    "\n",
    "\n",
    " 1. Some data files may not have `expver` present at all, such as older data which are outside the window of modification for the rolling ERA5 updates.  Use those data as-is.\n",
    " 1. If `expver` has both values 1 and 5 (a mix of ERA5 and ERA5T data), choose `expver == 1` where possible, and `expver == 5` for timesteps when `expver == 1` is missing.\n",
    " 1. For recent data, only `expver` value 5 is present.\n",
    "\n",
    "#### Notes/Questions?\n",
    "\n",
    " * Current month may be only ERA5T / `expver = 5`\n",
    " * Prior months in the same year may have mix of `expver` 5 and 1.\n",
    " * Prior year doesn't have `expver`.\n",
    "\n",
    "\n",
    "Needs to be robust to the presence/absence of expver.\n",
    "\n",
    "Goal is that a dataframe taken for a single point looks correct with data for every timestep (no dupes, no missing).\n",
    "\n",
    "## TODO: make this work properly for January when we may only have 2 data files."
   ]
  },
  {
   "cell_type": "code",
   "execution_count": 2,
   "id": "d348b531",
   "metadata": {},
   "outputs": [],
   "source": [
    "prior_year = xr.open_dataset(DOWNLOAD_DIR.joinpath(\"inputs/total_precipitation_previous_year.nc\"))\n",
    "current_year = xr.open_dataset(DOWNLOAD_DIR.joinpath(\"inputs/total_precipitation_current_year.nc\"))\n",
    "current_month = xr.open_dataset(DOWNLOAD_DIR.joinpath(\"inputs/total_precipitation_current_month.nc\"))"
   ]
  },
  {
   "cell_type": "markdown",
   "id": "f7217dc7",
   "metadata": {},
   "source": [
    "Test hypothesis that value ERA5 data is NaN when ERA5T is not NaN and vice versa.\n",
    "\n",
    "if both of these startments print `True` then this hypothesis is True.\n",
    "\n",
    "This probably doesn't matter much for implementation but it's good to know perhaps. Will remove, this just keeping for crosstraining. Maybe should actually keep this and assert it because it does allow a simplified selection of the desired values, and if this ever changes we would then know where to look faster."
   ]
  },
  {
   "cell_type": "code",
   "execution_count": 3,
   "id": "39401fd7",
   "metadata": {},
   "outputs": [
    {
     "name": "stdout",
     "output_type": "stream",
     "text": [
      "True\n",
      "True\n"
     ]
    }
   ],
   "source": [
    "print(np.all(np.isnan(current_year[\"tp\"].sel(expver=5)) == ~np.isnan(current_year[\"tp\"].sel(expver=1))).values)\n",
    "print(np.all(~np.isnan(current_year[\"tp\"].sel(expver=5)) == np.isnan(current_year[\"tp\"].sel(expver=1))).values)"
   ]
  },
  {
   "cell_type": "markdown",
   "id": "44af5daf",
   "metadata": {},
   "source": [
    "Now we know we can just select the data for each `expver` value and we should be able to combine to get a complete continuous set of data:"
   ]
  },
  {
   "cell_type": "code",
   "execution_count": 5,
   "id": "59e3dfcb",
   "metadata": {},
   "outputs": [],
   "source": [
    "current_year_fix = xr.merge([\n",
    "    current_year[\"tp\"].sel(expver=1).drop(\"expver\"),\n",
    "    current_year[\"tp\"].sel(expver=5).drop(\"expver\")\n",
    "])"
   ]
  },
  {
   "cell_type": "markdown",
   "id": "9e4ad2f7",
   "metadata": {},
   "source": [
    "Make sure that there are no NaNs:"
   ]
  },
  {
   "cell_type": "code",
   "execution_count": 6,
   "id": "d8d77e56",
   "metadata": {},
   "outputs": [
    {
     "data": {
      "text/plain": [
       "False"
      ]
     },
     "execution_count": 6,
     "metadata": {},
     "output_type": "execute_result"
    }
   ],
   "source": [
    "np.any(np.isnan(current_year_fix[\"tp\"]).values)"
   ]
  },
  {
   "cell_type": "markdown",
   "id": "e8b85240",
   "metadata": {},
   "source": [
    "Now merge with other dataset since they all share the same coordinate variables now:"
   ]
  },
  {
   "cell_type": "code",
   "execution_count": 15,
   "id": "82eb2392",
   "metadata": {},
   "outputs": [],
   "source": [
    "tp_ds_hourly = xr.merge([\n",
    "    prior_year,\n",
    "    current_year_fix,\n",
    "    current_month_daily,\n",
    "])"
   ]
  },
  {
   "cell_type": "markdown",
   "id": "d0a502fe",
   "metadata": {},
   "source": [
    "And resample the hourly data to daily:"
   ]
  },
  {
   "cell_type": "code",
   "execution_count": 16,
   "id": "f7188ec0",
   "metadata": {},
   "outputs": [],
   "source": [
    "tp_ds = tp_ds_hourly.resample(time=\"1D\").sum()"
   ]
  },
  {
   "cell_type": "markdown",
   "id": "83ffb144",
   "metadata": {},
   "source": [
    "There we have it, total precip dataset:"
   ]
  },
  {
   "cell_type": "code",
   "execution_count": 17,
   "id": "987460e3",
   "metadata": {},
   "outputs": [
    {
     "data": {
      "text/html": [
       "<div><svg style=\"position: absolute; width: 0; height: 0; overflow: hidden\">\n",
       "<defs>\n",
       "<symbol id=\"icon-database\" viewBox=\"0 0 32 32\">\n",
       "<path d=\"M16 0c-8.837 0-16 2.239-16 5v4c0 2.761 7.163 5 16 5s16-2.239 16-5v-4c0-2.761-7.163-5-16-5z\"></path>\n",
       "<path d=\"M16 17c-8.837 0-16-2.239-16-5v6c0 2.761 7.163 5 16 5s16-2.239 16-5v-6c0 2.761-7.163 5-16 5z\"></path>\n",
       "<path d=\"M16 26c-8.837 0-16-2.239-16-5v6c0 2.761 7.163 5 16 5s16-2.239 16-5v-6c0 2.761-7.163 5-16 5z\"></path>\n",
       "</symbol>\n",
       "<symbol id=\"icon-file-text2\" viewBox=\"0 0 32 32\">\n",
       "<path d=\"M28.681 7.159c-0.694-0.947-1.662-2.053-2.724-3.116s-2.169-2.030-3.116-2.724c-1.612-1.182-2.393-1.319-2.841-1.319h-15.5c-1.378 0-2.5 1.121-2.5 2.5v27c0 1.378 1.122 2.5 2.5 2.5h23c1.378 0 2.5-1.122 2.5-2.5v-19.5c0-0.448-0.137-1.23-1.319-2.841zM24.543 5.457c0.959 0.959 1.712 1.825 2.268 2.543h-4.811v-4.811c0.718 0.556 1.584 1.309 2.543 2.268zM28 29.5c0 0.271-0.229 0.5-0.5 0.5h-23c-0.271 0-0.5-0.229-0.5-0.5v-27c0-0.271 0.229-0.5 0.5-0.5 0 0 15.499-0 15.5 0v7c0 0.552 0.448 1 1 1h7v19.5z\"></path>\n",
       "<path d=\"M23 26h-14c-0.552 0-1-0.448-1-1s0.448-1 1-1h14c0.552 0 1 0.448 1 1s-0.448 1-1 1z\"></path>\n",
       "<path d=\"M23 22h-14c-0.552 0-1-0.448-1-1s0.448-1 1-1h14c0.552 0 1 0.448 1 1s-0.448 1-1 1z\"></path>\n",
       "<path d=\"M23 18h-14c-0.552 0-1-0.448-1-1s0.448-1 1-1h14c0.552 0 1 0.448 1 1s-0.448 1-1 1z\"></path>\n",
       "</symbol>\n",
       "</defs>\n",
       "</svg>\n",
       "<style>/* CSS stylesheet for displaying xarray objects in jupyterlab.\n",
       " *\n",
       " */\n",
       "\n",
       ":root {\n",
       "  --xr-font-color0: var(--jp-content-font-color0, rgba(0, 0, 0, 1));\n",
       "  --xr-font-color2: var(--jp-content-font-color2, rgba(0, 0, 0, 0.54));\n",
       "  --xr-font-color3: var(--jp-content-font-color3, rgba(0, 0, 0, 0.38));\n",
       "  --xr-border-color: var(--jp-border-color2, #e0e0e0);\n",
       "  --xr-disabled-color: var(--jp-layout-color3, #bdbdbd);\n",
       "  --xr-background-color: var(--jp-layout-color0, white);\n",
       "  --xr-background-color-row-even: var(--jp-layout-color1, white);\n",
       "  --xr-background-color-row-odd: var(--jp-layout-color2, #eeeeee);\n",
       "}\n",
       "\n",
       "html[theme=dark],\n",
       "body[data-theme=dark],\n",
       "body.vscode-dark {\n",
       "  --xr-font-color0: rgba(255, 255, 255, 1);\n",
       "  --xr-font-color2: rgba(255, 255, 255, 0.54);\n",
       "  --xr-font-color3: rgba(255, 255, 255, 0.38);\n",
       "  --xr-border-color: #1F1F1F;\n",
       "  --xr-disabled-color: #515151;\n",
       "  --xr-background-color: #111111;\n",
       "  --xr-background-color-row-even: #111111;\n",
       "  --xr-background-color-row-odd: #313131;\n",
       "}\n",
       "\n",
       ".xr-wrap {\n",
       "  display: block !important;\n",
       "  min-width: 300px;\n",
       "  max-width: 700px;\n",
       "}\n",
       "\n",
       ".xr-text-repr-fallback {\n",
       "  /* fallback to plain text repr when CSS is not injected (untrusted notebook) */\n",
       "  display: none;\n",
       "}\n",
       "\n",
       ".xr-header {\n",
       "  padding-top: 6px;\n",
       "  padding-bottom: 6px;\n",
       "  margin-bottom: 4px;\n",
       "  border-bottom: solid 1px var(--xr-border-color);\n",
       "}\n",
       "\n",
       ".xr-header > div,\n",
       ".xr-header > ul {\n",
       "  display: inline;\n",
       "  margin-top: 0;\n",
       "  margin-bottom: 0;\n",
       "}\n",
       "\n",
       ".xr-obj-type,\n",
       ".xr-array-name {\n",
       "  margin-left: 2px;\n",
       "  margin-right: 10px;\n",
       "}\n",
       "\n",
       ".xr-obj-type {\n",
       "  color: var(--xr-font-color2);\n",
       "}\n",
       "\n",
       ".xr-sections {\n",
       "  padding-left: 0 !important;\n",
       "  display: grid;\n",
       "  grid-template-columns: 150px auto auto 1fr 20px 20px;\n",
       "}\n",
       "\n",
       ".xr-section-item {\n",
       "  display: contents;\n",
       "}\n",
       "\n",
       ".xr-section-item input {\n",
       "  display: none;\n",
       "}\n",
       "\n",
       ".xr-section-item input + label {\n",
       "  color: var(--xr-disabled-color);\n",
       "}\n",
       "\n",
       ".xr-section-item input:enabled + label {\n",
       "  cursor: pointer;\n",
       "  color: var(--xr-font-color2);\n",
       "}\n",
       "\n",
       ".xr-section-item input:enabled + label:hover {\n",
       "  color: var(--xr-font-color0);\n",
       "}\n",
       "\n",
       ".xr-section-summary {\n",
       "  grid-column: 1;\n",
       "  color: var(--xr-font-color2);\n",
       "  font-weight: 500;\n",
       "}\n",
       "\n",
       ".xr-section-summary > span {\n",
       "  display: inline-block;\n",
       "  padding-left: 0.5em;\n",
       "}\n",
       "\n",
       ".xr-section-summary-in:disabled + label {\n",
       "  color: var(--xr-font-color2);\n",
       "}\n",
       "\n",
       ".xr-section-summary-in + label:before {\n",
       "  display: inline-block;\n",
       "  content: '►';\n",
       "  font-size: 11px;\n",
       "  width: 15px;\n",
       "  text-align: center;\n",
       "}\n",
       "\n",
       ".xr-section-summary-in:disabled + label:before {\n",
       "  color: var(--xr-disabled-color);\n",
       "}\n",
       "\n",
       ".xr-section-summary-in:checked + label:before {\n",
       "  content: '▼';\n",
       "}\n",
       "\n",
       ".xr-section-summary-in:checked + label > span {\n",
       "  display: none;\n",
       "}\n",
       "\n",
       ".xr-section-summary,\n",
       ".xr-section-inline-details {\n",
       "  padding-top: 4px;\n",
       "  padding-bottom: 4px;\n",
       "}\n",
       "\n",
       ".xr-section-inline-details {\n",
       "  grid-column: 2 / -1;\n",
       "}\n",
       "\n",
       ".xr-section-details {\n",
       "  display: none;\n",
       "  grid-column: 1 / -1;\n",
       "  margin-bottom: 5px;\n",
       "}\n",
       "\n",
       ".xr-section-summary-in:checked ~ .xr-section-details {\n",
       "  display: contents;\n",
       "}\n",
       "\n",
       ".xr-array-wrap {\n",
       "  grid-column: 1 / -1;\n",
       "  display: grid;\n",
       "  grid-template-columns: 20px auto;\n",
       "}\n",
       "\n",
       ".xr-array-wrap > label {\n",
       "  grid-column: 1;\n",
       "  vertical-align: top;\n",
       "}\n",
       "\n",
       ".xr-preview {\n",
       "  color: var(--xr-font-color3);\n",
       "}\n",
       "\n",
       ".xr-array-preview,\n",
       ".xr-array-data {\n",
       "  padding: 0 5px !important;\n",
       "  grid-column: 2;\n",
       "}\n",
       "\n",
       ".xr-array-data,\n",
       ".xr-array-in:checked ~ .xr-array-preview {\n",
       "  display: none;\n",
       "}\n",
       "\n",
       ".xr-array-in:checked ~ .xr-array-data,\n",
       ".xr-array-preview {\n",
       "  display: inline-block;\n",
       "}\n",
       "\n",
       ".xr-dim-list {\n",
       "  display: inline-block !important;\n",
       "  list-style: none;\n",
       "  padding: 0 !important;\n",
       "  margin: 0;\n",
       "}\n",
       "\n",
       ".xr-dim-list li {\n",
       "  display: inline-block;\n",
       "  padding: 0;\n",
       "  margin: 0;\n",
       "}\n",
       "\n",
       ".xr-dim-list:before {\n",
       "  content: '(';\n",
       "}\n",
       "\n",
       ".xr-dim-list:after {\n",
       "  content: ')';\n",
       "}\n",
       "\n",
       ".xr-dim-list li:not(:last-child):after {\n",
       "  content: ',';\n",
       "  padding-right: 5px;\n",
       "}\n",
       "\n",
       ".xr-has-index {\n",
       "  font-weight: bold;\n",
       "}\n",
       "\n",
       ".xr-var-list,\n",
       ".xr-var-item {\n",
       "  display: contents;\n",
       "}\n",
       "\n",
       ".xr-var-item > div,\n",
       ".xr-var-item label,\n",
       ".xr-var-item > .xr-var-name span {\n",
       "  background-color: var(--xr-background-color-row-even);\n",
       "  margin-bottom: 0;\n",
       "}\n",
       "\n",
       ".xr-var-item > .xr-var-name:hover span {\n",
       "  padding-right: 5px;\n",
       "}\n",
       "\n",
       ".xr-var-list > li:nth-child(odd) > div,\n",
       ".xr-var-list > li:nth-child(odd) > label,\n",
       ".xr-var-list > li:nth-child(odd) > .xr-var-name span {\n",
       "  background-color: var(--xr-background-color-row-odd);\n",
       "}\n",
       "\n",
       ".xr-var-name {\n",
       "  grid-column: 1;\n",
       "}\n",
       "\n",
       ".xr-var-dims {\n",
       "  grid-column: 2;\n",
       "}\n",
       "\n",
       ".xr-var-dtype {\n",
       "  grid-column: 3;\n",
       "  text-align: right;\n",
       "  color: var(--xr-font-color2);\n",
       "}\n",
       "\n",
       ".xr-var-preview {\n",
       "  grid-column: 4;\n",
       "}\n",
       "\n",
       ".xr-var-name,\n",
       ".xr-var-dims,\n",
       ".xr-var-dtype,\n",
       ".xr-preview,\n",
       ".xr-attrs dt {\n",
       "  white-space: nowrap;\n",
       "  overflow: hidden;\n",
       "  text-overflow: ellipsis;\n",
       "  padding-right: 10px;\n",
       "}\n",
       "\n",
       ".xr-var-name:hover,\n",
       ".xr-var-dims:hover,\n",
       ".xr-var-dtype:hover,\n",
       ".xr-attrs dt:hover {\n",
       "  overflow: visible;\n",
       "  width: auto;\n",
       "  z-index: 1;\n",
       "}\n",
       "\n",
       ".xr-var-attrs,\n",
       ".xr-var-data {\n",
       "  display: none;\n",
       "  background-color: var(--xr-background-color) !important;\n",
       "  padding-bottom: 5px !important;\n",
       "}\n",
       "\n",
       ".xr-var-attrs-in:checked ~ .xr-var-attrs,\n",
       ".xr-var-data-in:checked ~ .xr-var-data {\n",
       "  display: block;\n",
       "}\n",
       "\n",
       ".xr-var-data > table {\n",
       "  float: right;\n",
       "}\n",
       "\n",
       ".xr-var-name span,\n",
       ".xr-var-data,\n",
       ".xr-attrs {\n",
       "  padding-left: 25px !important;\n",
       "}\n",
       "\n",
       ".xr-attrs,\n",
       ".xr-var-attrs,\n",
       ".xr-var-data {\n",
       "  grid-column: 1 / -1;\n",
       "}\n",
       "\n",
       "dl.xr-attrs {\n",
       "  padding: 0;\n",
       "  margin: 0;\n",
       "  display: grid;\n",
       "  grid-template-columns: 125px auto;\n",
       "}\n",
       "\n",
       ".xr-attrs dt,\n",
       ".xr-attrs dd {\n",
       "  padding: 0;\n",
       "  margin: 0;\n",
       "  float: left;\n",
       "  padding-right: 10px;\n",
       "  width: auto;\n",
       "}\n",
       "\n",
       ".xr-attrs dt {\n",
       "  font-weight: normal;\n",
       "  grid-column: 1;\n",
       "}\n",
       "\n",
       ".xr-attrs dt:hover span {\n",
       "  display: inline-block;\n",
       "  background: var(--xr-background-color);\n",
       "  padding-right: 10px;\n",
       "}\n",
       "\n",
       ".xr-attrs dd {\n",
       "  grid-column: 2;\n",
       "  white-space: pre-wrap;\n",
       "  word-break: break-all;\n",
       "}\n",
       "\n",
       ".xr-icon-database,\n",
       ".xr-icon-file-text2 {\n",
       "  display: inline-block;\n",
       "  vertical-align: middle;\n",
       "  width: 1em;\n",
       "  height: 1.5em !important;\n",
       "  stroke-width: 0;\n",
       "  stroke: currentColor;\n",
       "  fill: currentColor;\n",
       "}\n",
       "</style><pre class='xr-text-repr-fallback'>&lt;xarray.Dataset&gt;\n",
       "Dimensions:    (longitude: 221, latitude: 129, time: 651)\n",
       "Coordinates:\n",
       "  * longitude  (longitude) float32 -180.0 -179.8 -179.5 ... -125.5 -125.2 -125.0\n",
       "  * latitude   (latitude) float32 76.0 75.75 75.5 75.25 ... 44.5 44.25 44.0\n",
       "  * time       (time) datetime64[ns] 2021-01-01 2021-01-02 ... 2022-10-13\n",
       "Data variables:\n",
       "    tp         (time, latitude, longitude) float32 1.345e-05 ... -1.118e-08</pre><div class='xr-wrap' style='display:none'><div class='xr-header'><div class='xr-obj-type'>xarray.Dataset</div></div><ul class='xr-sections'><li class='xr-section-item'><input id='section-0bb0f359-5133-4205-ae3c-8cbb91643928' class='xr-section-summary-in' type='checkbox' disabled ><label for='section-0bb0f359-5133-4205-ae3c-8cbb91643928' class='xr-section-summary'  title='Expand/collapse section'>Dimensions:</label><div class='xr-section-inline-details'><ul class='xr-dim-list'><li><span class='xr-has-index'>longitude</span>: 221</li><li><span class='xr-has-index'>latitude</span>: 129</li><li><span class='xr-has-index'>time</span>: 651</li></ul></div><div class='xr-section-details'></div></li><li class='xr-section-item'><input id='section-365abea1-779b-40c4-83b4-2d737836fdd9' class='xr-section-summary-in' type='checkbox'  checked><label for='section-365abea1-779b-40c4-83b4-2d737836fdd9' class='xr-section-summary' >Coordinates: <span>(3)</span></label><div class='xr-section-inline-details'></div><div class='xr-section-details'><ul class='xr-var-list'><li class='xr-var-item'><div class='xr-var-name'><span class='xr-has-index'>longitude</span></div><div class='xr-var-dims'>(longitude)</div><div class='xr-var-dtype'>float32</div><div class='xr-var-preview xr-preview'>-180.0 -179.8 ... -125.2 -125.0</div><input id='attrs-823b3c16-21fe-47d4-8cca-57e4fda0e781' class='xr-var-attrs-in' type='checkbox' ><label for='attrs-823b3c16-21fe-47d4-8cca-57e4fda0e781' title='Show/Hide attributes'><svg class='icon xr-icon-file-text2'><use xlink:href='#icon-file-text2'></use></svg></label><input id='data-6a28868c-8cb2-40ab-9ef1-454fa90f86e1' class='xr-var-data-in' type='checkbox'><label for='data-6a28868c-8cb2-40ab-9ef1-454fa90f86e1' title='Show/Hide data repr'><svg class='icon xr-icon-database'><use xlink:href='#icon-database'></use></svg></label><div class='xr-var-attrs'><dl class='xr-attrs'><dt><span>units :</span></dt><dd>degrees_east</dd><dt><span>long_name :</span></dt><dd>longitude</dd></dl></div><div class='xr-var-data'><pre>array([-180.  , -179.75, -179.5 , ..., -125.5 , -125.25, -125.  ],\n",
       "      dtype=float32)</pre></div></li><li class='xr-var-item'><div class='xr-var-name'><span class='xr-has-index'>latitude</span></div><div class='xr-var-dims'>(latitude)</div><div class='xr-var-dtype'>float32</div><div class='xr-var-preview xr-preview'>76.0 75.75 75.5 ... 44.5 44.25 44.0</div><input id='attrs-180a4c7e-11cd-4893-9f82-88064bea9f0a' class='xr-var-attrs-in' type='checkbox' ><label for='attrs-180a4c7e-11cd-4893-9f82-88064bea9f0a' title='Show/Hide attributes'><svg class='icon xr-icon-file-text2'><use xlink:href='#icon-file-text2'></use></svg></label><input id='data-9ea84305-b9e7-409c-a74d-95d8bea8d366' class='xr-var-data-in' type='checkbox'><label for='data-9ea84305-b9e7-409c-a74d-95d8bea8d366' title='Show/Hide data repr'><svg class='icon xr-icon-database'><use xlink:href='#icon-database'></use></svg></label><div class='xr-var-attrs'><dl class='xr-attrs'><dt><span>units :</span></dt><dd>degrees_north</dd><dt><span>long_name :</span></dt><dd>latitude</dd></dl></div><div class='xr-var-data'><pre>array([76.  , 75.75, 75.5 , 75.25, 75.  , 74.75, 74.5 , 74.25, 74.  , 73.75,\n",
       "       73.5 , 73.25, 73.  , 72.75, 72.5 , 72.25, 72.  , 71.75, 71.5 , 71.25,\n",
       "       71.  , 70.75, 70.5 , 70.25, 70.  , 69.75, 69.5 , 69.25, 69.  , 68.75,\n",
       "       68.5 , 68.25, 68.  , 67.75, 67.5 , 67.25, 67.  , 66.75, 66.5 , 66.25,\n",
       "       66.  , 65.75, 65.5 , 65.25, 65.  , 64.75, 64.5 , 64.25, 64.  , 63.75,\n",
       "       63.5 , 63.25, 63.  , 62.75, 62.5 , 62.25, 62.  , 61.75, 61.5 , 61.25,\n",
       "       61.  , 60.75, 60.5 , 60.25, 60.  , 59.75, 59.5 , 59.25, 59.  , 58.75,\n",
       "       58.5 , 58.25, 58.  , 57.75, 57.5 , 57.25, 57.  , 56.75, 56.5 , 56.25,\n",
       "       56.  , 55.75, 55.5 , 55.25, 55.  , 54.75, 54.5 , 54.25, 54.  , 53.75,\n",
       "       53.5 , 53.25, 53.  , 52.75, 52.5 , 52.25, 52.  , 51.75, 51.5 , 51.25,\n",
       "       51.  , 50.75, 50.5 , 50.25, 50.  , 49.75, 49.5 , 49.25, 49.  , 48.75,\n",
       "       48.5 , 48.25, 48.  , 47.75, 47.5 , 47.25, 47.  , 46.75, 46.5 , 46.25,\n",
       "       46.  , 45.75, 45.5 , 45.25, 45.  , 44.75, 44.5 , 44.25, 44.  ],\n",
       "      dtype=float32)</pre></div></li><li class='xr-var-item'><div class='xr-var-name'><span class='xr-has-index'>time</span></div><div class='xr-var-dims'>(time)</div><div class='xr-var-dtype'>datetime64[ns]</div><div class='xr-var-preview xr-preview'>2021-01-01 ... 2022-10-13</div><input id='attrs-3d0e285f-cbcc-4ab6-87cc-fe8e9bf84778' class='xr-var-attrs-in' type='checkbox' disabled><label for='attrs-3d0e285f-cbcc-4ab6-87cc-fe8e9bf84778' title='Show/Hide attributes'><svg class='icon xr-icon-file-text2'><use xlink:href='#icon-file-text2'></use></svg></label><input id='data-4c0e78c1-ac38-4f0d-9cdb-6fffafc1d300' class='xr-var-data-in' type='checkbox'><label for='data-4c0e78c1-ac38-4f0d-9cdb-6fffafc1d300' title='Show/Hide data repr'><svg class='icon xr-icon-database'><use xlink:href='#icon-database'></use></svg></label><div class='xr-var-attrs'><dl class='xr-attrs'></dl></div><div class='xr-var-data'><pre>array([&#x27;2021-01-01T00:00:00.000000000&#x27;, &#x27;2021-01-02T00:00:00.000000000&#x27;,\n",
       "       &#x27;2021-01-03T00:00:00.000000000&#x27;, ..., &#x27;2022-10-11T00:00:00.000000000&#x27;,\n",
       "       &#x27;2022-10-12T00:00:00.000000000&#x27;, &#x27;2022-10-13T00:00:00.000000000&#x27;],\n",
       "      dtype=&#x27;datetime64[ns]&#x27;)</pre></div></li></ul></div></li><li class='xr-section-item'><input id='section-01d9026d-68f9-495c-991d-73e8b383aae5' class='xr-section-summary-in' type='checkbox'  checked><label for='section-01d9026d-68f9-495c-991d-73e8b383aae5' class='xr-section-summary' >Data variables: <span>(1)</span></label><div class='xr-section-inline-details'></div><div class='xr-section-details'><ul class='xr-var-list'><li class='xr-var-item'><div class='xr-var-name'><span>tp</span></div><div class='xr-var-dims'>(time, latitude, longitude)</div><div class='xr-var-dtype'>float32</div><div class='xr-var-preview xr-preview'>1.345e-05 1.345e-05 ... -1.118e-08</div><input id='attrs-516291fe-ef5f-441c-a21f-f1a51b8d11d7' class='xr-var-attrs-in' type='checkbox' disabled><label for='attrs-516291fe-ef5f-441c-a21f-f1a51b8d11d7' title='Show/Hide attributes'><svg class='icon xr-icon-file-text2'><use xlink:href='#icon-file-text2'></use></svg></label><input id='data-87d4f63c-88e4-43b7-b978-b45f23d69ab9' class='xr-var-data-in' type='checkbox'><label for='data-87d4f63c-88e4-43b7-b978-b45f23d69ab9' title='Show/Hide data repr'><svg class='icon xr-icon-database'><use xlink:href='#icon-database'></use></svg></label><div class='xr-var-attrs'><dl class='xr-attrs'></dl></div><div class='xr-var-data'><pre>array([[[ 1.34520233e-05,  1.34520233e-05,  1.14217401e-05, ...,\n",
       "          2.02302821e-04,  2.09919177e-04,  2.13980675e-04],\n",
       "        [ 1.44671649e-05,  1.44671649e-05,  1.29444525e-05, ...,\n",
       "          2.33015977e-04,  2.41646543e-04,  2.51038000e-04],\n",
       "        [ 1.26892701e-05,  1.26892701e-05,  1.16741285e-05, ...,\n",
       "          2.46976502e-04,  2.52814032e-04,  2.59159133e-04],\n",
       "        ...,\n",
       "        [ 6.12381240e-03,  6.11822493e-03,  5.92684047e-03, ...,\n",
       "          8.77324678e-03,  8.58973339e-03,  8.85726511e-03],\n",
       "        [ 6.58095395e-03,  5.27806208e-03,  4.34119115e-03, ...,\n",
       "          8.39073118e-03,  8.20670836e-03,  8.35773442e-03],\n",
       "        [ 5.53670945e-03,  4.03989805e-03,  3.25785810e-03, ...,\n",
       "          7.91836157e-03,  7.45919254e-03,  7.39750871e-03]],\n",
       "\n",
       "       [[ 1.14208087e-05,  1.14208087e-05,  1.42129138e-05, ...,\n",
       "          2.23876908e-04,  2.20830552e-04,  2.16259621e-04],\n",
       "        [ 7.61356205e-06,  8.12113285e-06,  1.09132379e-05, ...,\n",
       "          2.54335813e-04,  2.57637352e-04,  2.57638283e-04],\n",
       "        [ 8.62963498e-06,  8.62963498e-06,  1.16750598e-05, ...,\n",
       "          2.65501440e-04,  2.69059092e-04,  2.72866338e-04],\n",
       "...\n",
       "         -1.11758709e-08, -1.11758709e-08, -1.11758709e-08],\n",
       "        [ 6.40097260e-03,  6.19693426e-03,  5.44013176e-03, ...,\n",
       "         -1.11758709e-08, -1.11758709e-08, -1.11758709e-08],\n",
       "        [ 1.04002869e-02,  8.86545423e-03,  7.03063142e-03, ...,\n",
       "         -1.11758709e-08, -1.11758709e-08, -1.11758709e-08]],\n",
       "\n",
       "       [[ 2.17458699e-04,  2.21358147e-04,  2.26556789e-04, ...,\n",
       "          7.65891746e-04,  7.69357197e-04,  7.71090388e-04],\n",
       "        [ 2.10312661e-04,  2.14425847e-04,  2.18108762e-04, ...,\n",
       "          7.52895605e-04,  7.61993229e-04,  7.69141130e-04],\n",
       "        [ 1.64391007e-04,  1.95147935e-04,  2.63379421e-04, ...,\n",
       "          6.60624355e-04,  6.61058351e-04,  6.58241566e-04],\n",
       "        ...,\n",
       "        [ 1.15902163e-03,  1.31389126e-03,  1.38407014e-03, ...,\n",
       "         -1.11758709e-08, -1.11758709e-08, -1.11758709e-08],\n",
       "        [ 1.35937752e-03,  1.61648216e-03,  1.75142428e-03, ...,\n",
       "         -1.11758709e-08, -1.11758709e-08, -1.11758709e-08],\n",
       "        [ 2.98799807e-03,  2.86540063e-03,  2.84915883e-03, ...,\n",
       "         -1.11758709e-08, -1.11758709e-08, -1.11758709e-08]]],\n",
       "      dtype=float32)</pre></div></li></ul></div></li><li class='xr-section-item'><input id='section-3687215b-0c14-40ce-8e55-f60088c86abe' class='xr-section-summary-in' type='checkbox' disabled ><label for='section-3687215b-0c14-40ce-8e55-f60088c86abe' class='xr-section-summary'  title='Expand/collapse section'>Attributes: <span>(0)</span></label><div class='xr-section-inline-details'></div><div class='xr-section-details'><dl class='xr-attrs'></dl></div></li></ul></div></div>"
      ],
      "text/plain": [
       "<xarray.Dataset>\n",
       "Dimensions:    (longitude: 221, latitude: 129, time: 651)\n",
       "Coordinates:\n",
       "  * longitude  (longitude) float32 -180.0 -179.8 -179.5 ... -125.5 -125.2 -125.0\n",
       "  * latitude   (latitude) float32 76.0 75.75 75.5 75.25 ... 44.5 44.25 44.0\n",
       "  * time       (time) datetime64[ns] 2021-01-01 2021-01-02 ... 2022-10-13\n",
       "Data variables:\n",
       "    tp         (time, latitude, longitude) float32 1.345e-05 ... -1.118e-08"
      ]
     },
     "execution_count": 17,
     "metadata": {},
     "output_type": "execute_result"
    }
   ],
   "source": [
    "tp_ds"
   ]
  },
  {
   "cell_type": "code",
   "execution_count": 18,
   "id": "854e7930",
   "metadata": {},
   "outputs": [
    {
     "data": {
      "text/plain": [
       "<matplotlib.collections.QuadMesh at 0x7f58341ce250>"
      ]
     },
     "execution_count": 18,
     "metadata": {},
     "output_type": "execute_result"
    },
    {
     "data": {
      "image/png": "[encoded data removed]",
      "text/plain": [
       "<Figure size 640x480 with 2 Axes>"
      ]
     },
     "metadata": {},
     "output_type": "display_data"
    }
   ],
   "source": [
    "tp_ds[\"tp\"].mean(dim=\"time\").plot()"
   ]
  },
  {
   "cell_type": "markdown",
   "id": "ca4bc64c",
   "metadata": {},
   "source": [
    "Just for fun, a look at the hourly data from last year's ROS event:"
   ]
  },
  {
   "cell_type": "code",
   "execution_count": 20,
   "id": "8152155d",
   "metadata": {},
   "outputs": [
    {
     "data": {
      "text/plain": [
       "[<matplotlib.lines.Line2D at 0x7f582eace670>]"
      ]
     },
     "execution_count": 20,
     "metadata": {},
     "output_type": "execute_result"
    },
    {
     "data": {
      "image/png": "[encoded data removed]",
      "text/plain": [
       "<Figure size 640x480 with 1 Axes>"
      ]
     },
     "metadata": {},
     "output_type": "display_data"
    }
   ],
   "source": [
    "prior_year[\"tp\"].sel(\n",
    "    longitude=-147.72, latitude=64.84, method=\"nearest\"\n",
    ").sel(time=slice(\"2021-12-25\", \"2021-12-27\")).plot()"
   ]
  },
  {
   "cell_type": "markdown",
   "id": "abc9a260",
   "metadata": {},
   "source": [
    "## Indices\n",
    "\n",
    "I know we have another notebook for processing these but we might consider just doing the preprocessing and processing in one go because the preprocessing is rather quick.\n",
    "\n",
    "We will compute the following indices:\n",
    "\n",
    "* SPI - standardized precipitation index\n",
    "* SPEI (can ERA 5 do this?) – standardized potential evaporation index\n",
    "* Total Precip\n",
    "* % of Normal Precipitation\n",
    "* SWE - snow water equivalent\n",
    "* SWE % of Normal \n",
    "* Soil Moisture Deficit\n",
    "\n",
    "These indices will be computed for the following time periods:\n",
    "\n",
    "* 30 day\n",
    "* 60 day\n",
    "* 90 day\n",
    "* 180 day\n",
    "* 365 day\n",
    "\n",
    "So we really will only want data as far back as 1 year from most recent data we have (right?), so we can do that first for our precip data:"
   ]
  },
  {
   "cell_type": "code",
   "execution_count": 68,
   "id": "b7145ea4",
   "metadata": {},
   "outputs": [],
   "source": [
    "end_time = tp_ds.time[-1]\n",
    "start_time = tp_ds.time[-365]\n",
    "# ensure that this is indeed 365 days (time diff is nanoseconds)\n",
    "assert (end_time - start_time) / 86400E9\n",
    "tp_ds_1yr = tp_ds.sel(time=slice(start_time, end_time))"
   ]
  },
  {
   "cell_type": "markdown",
   "id": "3b9d3dd4",
   "metadata": {},
   "source": [
    "Also we may want to have the 5 time intervals for repeated use:"
   ]
  },
  {
   "cell_type": "code",
   "execution_count": 69,
   "id": "6fca9ad5",
   "metadata": {},
   "outputs": [],
   "source": [
    "intervals = [30, 60 , 90, 180, 365]\n",
    "# also will be referencing the timestamps fairly often\n",
    "times = tp_ds_1yr.time.values"
   ]
  },
  {
   "cell_type": "markdown",
   "id": "ce2c9b75",
   "metadata": {},
   "source": [
    "Also create a dict for writing results maybe?"
   ]
  },
  {
   "cell_type": "code",
   "execution_count": 70,
   "id": "6aa65b4b",
   "metadata": {},
   "outputs": [],
   "source": [
    "indices = {}"
   ]
  },
  {
   "cell_type": "markdown",
   "id": "dedbb600",
   "metadata": {},
   "source": [
    "### Total precip\n",
    "\n",
    "This one should be easy? Just sum over each time interval?"
   ]
  },
  {
   "cell_type": "code",
   "execution_count": 72,
   "id": "29c032ac",
   "metadata": {},
   "outputs": [],
   "source": [
    "index = \"tp\"\n",
    "\n",
    "indices[index] = {}\n",
    "for i in intervals:\n",
    "    indices[index][str(i)] = tp_ds_1yr[\"tp\"].sel(time=slice(times[-(i)], times[-1])).sum(dim=\"time\")"
   ]
  },
  {
   "cell_type": "markdown",
   "id": "452c9a5f",
   "metadata": {},
   "source": [
    "### % of Normal\n",
    "\n",
    "So now this one should calculate the percent of the climatologies that the above total precip values represent over the same time windows."
   ]
  },
  {
   "cell_type": "code",
   "execution_count": 108,
   "id": "855a4a45",
   "metadata": {},
   "outputs": [],
   "source": [
    "index = \"pnp\"\n",
    "indices[index] = {}\n",
    "with xr.open_dataset(INPUT_DIR.joinpath(\"era5_daily_tp_climatology_1981_2020_leap.nc\")) as tp_clim_ds:\n",
    "    # need to remap longitude coordinates from [180, 360] to [-180, 0]\n",
    "    tp_clim_ds = tp_clim_ds.assign_coords(longitude=(tp_clim_ds.longitude.values) - 360)\n",
    "    for i in intervals:\n",
    "        # corresponding time slice for climotology dataset\n",
    "        climo_time_sl = slice(\n",
    "            pd.Timestamp(times[-i]).dayofyear, pd.Timestamp(times[-i]).dayofyear\n",
    "        )\n",
    "        climo_tp = tp_clim_ds.sel(\n",
    "            time=climo_time_sl,\n",
    "            latitude=tp_climo_ds.latitude.values,\n",
    "        ).sum(dim=\"time\").rename({\"tp\": \"pnp\"})\n",
    "        indices[index][str(i)] = climo_tp / indices[\"tp\"][str(i)]"
   ]
  },
  {
   "cell_type": "markdown",
   "id": "5ebb3c0b",
   "metadata": {},
   "source": [
    "Just a quick show that leap day and 2/28 have the same climotology:"
   ]
  },
  {
   "cell_type": "code",
   "execution_count": 80,
   "id": "725623d7",
   "metadata": {},
   "outputs": [],
   "source": [
    "assert np.all(tp_climo_ds[\"tp\"].sel(time=59) == tp_climo_ds[\"tp\"].sel(time=60))"
   ]
  }
 ],
 "metadata": {
  "kernelspec": {
   "display_name": "Python 3 (ipykernel)",
   "language": "python",
   "name": "python3"
  },
  "language_info": {
   "codemirror_mode": {
    "name": "ipython",
    "version": 3
   },
   "file_extension": ".py",
   "mimetype": "text/x-python",
   "name": "python",
   "nbconvert_exporter": "python",
   "pygments_lexer": "ipython3",
   "version": "3.8.13"
  }
 },
 "nbformat": 4,
 "nbformat_minor": 5
}
